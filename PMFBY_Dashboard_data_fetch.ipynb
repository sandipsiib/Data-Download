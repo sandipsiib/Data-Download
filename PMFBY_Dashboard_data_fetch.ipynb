{
  "nbformat": 4,
  "nbformat_minor": 0,
  "metadata": {
    "hide_input": false,
    "kernelspec": {
      "display_name": "Python 3",
      "language": "python",
      "name": "python3"
    },
    "language_info": {
      "codemirror_mode": {
        "name": "ipython",
        "version": 3
      },
      "file_extension": ".py",
      "mimetype": "text/x-python",
      "name": "python",
      "nbconvert_exporter": "python",
      "pygments_lexer": "ipython3",
      "version": "3.7.4"
    },
    "toc": {
      "base_numbering": 1,
      "nav_menu": {},
      "number_sections": true,
      "sideBar": true,
      "skip_h1_title": false,
      "title_cell": "Table of Contents",
      "title_sidebar": "Contents",
      "toc_cell": false,
      "toc_position": {},
      "toc_section_display": true,
      "toc_window_display": false
    },
    "colab": {
      "name": "PMFBY_Dashboard_data_fetch.ipynb",
      "provenance": []
    }
  },
  "cells": [
    {
      "cell_type": "code",
      "metadata": {
        "id": "2vtZub35enhD"
      },
      "source": [
        "import pandas as pd\n",
        "import numpy as np\n",
        "import requests\n",
        "import urllib\n",
        "import json\n",
        "from datetime import datetime,date"
      ],
      "execution_count": null,
      "outputs": []
    },
    {
      "cell_type": "code",
      "metadata": {
        "id": "qGccHVPyenhE"
      },
      "source": [
        "urls = ['https://pmfby.gov.in/ceo/getDistrictReports?year=22&season=01&stateName=Tamil+Nadu',\n",
        "        'https://pmfby.gov.in/ceo/getDistrictReports?year=22&season=01&stateName=Manipur',\n",
        "        'https://pmfby.gov.in/ceo/getDistrictReports?year=22&season=01&stateName=Kerala',\n",
        "        'https://pmfby.gov.in/ceo/getDistrictReports?year=22&season=01&stateName=Puducherry',\n",
        "        'https://pmfby.gov.in/ceo/getDistrictReports?year=22&season=01&stateName=Uttarakhand',\n",
        "        'https://pmfby.gov.in/ceo/getDistrictReports?year=22&season=01&stateName=Tripura',\n",
        "        'https://pmfby.gov.in/ceo/getDistrictReports?year=22&season=01&stateName=Himachal+Pradesh',\n",
        "        'https://pmfby.gov.in/ceo/getDistrictReports?year=22&season=01&stateName=Odisha',\n",
        "        'https://pmfby.gov.in/ceo/getDistrictReports?year=22&season=01&stateName=Assam',\n",
        "        'https://pmfby.gov.in/ceo/getDistrictReports?year=22&season=01&stateName=Chhattisgarh',\n",
        "        'https://pmfby.gov.in/ceo/getDistrictReports?year=22&season=01&stateName=Haryana',\n",
        "        'https://pmfby.gov.in/ceo/getDistrictReports?year=22&season=01&stateName=Maharashtra',\n",
        "        'https://pmfby.gov.in/ceo/getDistrictReports?year=22&season=01&stateName=Uttar+Pradesh',\n",
        "        'https://pmfby.gov.in/ceo/getDistrictReports?year=22&season=01&stateName=Madhya+Pradesh',\n",
        "        'https://pmfby.gov.in/ceo/getDistrictReports?year=22&season=01&stateName=Rajasthan']"
      ],
      "execution_count": null,
      "outputs": []
    },
    {
      "cell_type": "code",
      "metadata": {
        "id": "0X_IuYr_enhF",
        "colab": {
          "base_uri": "https://localhost:8080/"
        },
        "outputId": "d0078a92-9b59-4d4b-cf27-f38192976132"
      },
      "source": [
        "ofile = 'PMFBY_portal_' + date.today().strftime('%Y_%m_%d') + '.xlsx'\n",
        "\n",
        "season = []\n",
        "state = []\n",
        "scheme = []\n",
        "dis_name = []\n",
        "totalAreaInsured =[]\n",
        "goiShare = []\n",
        "stateShare = []\n",
        "farmerShare = []\n",
        "sumInsured = []\n",
        "loanee = []\n",
        "nonLoanee = []\n",
        "icName = []\n",
        "icShortName = []\n",
        "\n",
        "for url in urls:\n",
        "    chk_season = url.split('&')[1]\n",
        "    if chk_season =='season=01':\n",
        "        crp_season = 'Kharif'\n",
        "    elif chk_season =='season=02':\n",
        "        crp_season = 'Rabi'\n",
        "        \n",
        "    State_Name = url.split('&')[2].split('=')[1].replace('+',' ')\n",
        "    print(State_Name)\n",
        "    \n",
        "    r1=requests.get(url=url)\n",
        "    data_json = json.loads(r1.content)\n",
        "    \n",
        "    for data in data_json['data']:\n",
        "        #print(len(data))\n",
        "        #print(data)\n",
        "        #print(data['schcmeName'])\n",
        "        \n",
        "        for dis in data['districts']:\n",
        "            season.append(crp_season)\n",
        "            state.append(State_Name)\n",
        "            scheme.append(data['schcmeName'])\n",
        "            dis_name.append(dis['districtName'])\n",
        "            #print(dis['data'])\n",
        "            #for dis_data in dis['data']:\n",
        "            totalAreaInsured.append(dis['data']['totalAreaInsured'])\n",
        "            goiShare.append(dis['data']['goiShare'])\n",
        "            stateShare.append(dis['data']['stateShare'])\n",
        "            farmerShare.append(dis['data']['farmerShare'])\n",
        "            sumInsured.append(dis['data']['sumInsured'])\n",
        "            loanee.append(dis['data']['loanee'])\n",
        "            nonLoanee.append(dis['data']['nonLoanee'])\n",
        "            icName.append(dis['data']['insuranceCompanies'][0]['icName'])\n",
        "            icShortName.append(dis['data']['insuranceCompanies'][0]['icShortName'])\n",
        "            \n",
        "            #break\n",
        "        #break\n",
        "    #break\n",
        "            \n",
        "        \n",
        "    \n",
        "wrt_data = {'Season':season,\n",
        "            'State':state,\n",
        "            'Scheme':scheme,\n",
        "            'DistrictName':dis_name,\n",
        "            'TotalAreaInsured': totalAreaInsured,\n",
        "            'GOIShare': goiShare,\n",
        "            'StateShare': stateShare,\n",
        "            'FarmerShare':farmerShare,\n",
        "            'SumInsured':sumInsured,\n",
        "            'Loanee':loanee,\n",
        "            'NonLoanee':nonLoanee,\n",
        "            'ICName':icName,\n",
        "            'ICShortName':icShortName\n",
        "           }\n",
        "    \n",
        "df_data = pd.DataFrame(wrt_data)\n",
        "df_data.to_excel(ofile,index=False)    \n",
        "    "
      ],
      "execution_count": null,
      "outputs": [
        {
          "output_type": "stream",
          "text": [
            "Tamil Nadu\n",
            "Manipur\n",
            "Kerala\n",
            "Puducherry\n",
            "Uttarakhand\n",
            "Tripura\n",
            "Himachal Pradesh\n",
            "Odisha\n",
            "Assam\n",
            "Chhattisgarh\n",
            "Haryana\n",
            "Maharashtra\n",
            "Uttar Pradesh\n",
            "Madhya Pradesh\n",
            "Rajasthan\n"
          ],
          "name": "stdout"
        }
      ]
    }
  ]
}
